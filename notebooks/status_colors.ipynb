{
 "cells": [
  {
   "cell_type": "code",
   "execution_count": null,
   "id": "2289d4f2-3fb1-45d8-80cc-ce0d4e0e344c",
   "metadata": {},
   "outputs": [],
   "source": [
    "# Define marker colors for different plastic statuses\n",
    "status_colors = {\n",
    "    'Not visually present': 'green',\n",
    "    'Present': 'orange',\n",
    "    'Prevalent': 'red'\n",
    "}"
   ]
  }
 ],
 "metadata": {
  "kernelspec": {
   "display_name": "",
   "name": ""
  },
  "language_info": {
   "name": ""
  }
 },
 "nbformat": 4,
 "nbformat_minor": 5
}
